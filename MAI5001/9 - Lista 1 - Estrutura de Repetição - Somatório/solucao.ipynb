{
 "cells": [
  {
   "cell_type": "code",
   "execution_count": null,
   "id": "a8b67038-0e39-457f-b0f9-626f0195b2ed",
   "metadata": {},
   "outputs": [],
   "source": [
    "# S= X - (X^2)/3! + (X^4)/5! - (X^6)/7!"
   ]
  },
  {
   "cell_type": "code",
   "execution_count": 1,
   "id": "aeab9935-9635-46ca-b9e6-0a7fbdedb860",
   "metadata": {
    "tags": []
   },
   "outputs": [],
   "source": [
    "import math"
   ]
  },
  {
   "cell_type": "code",
   "execution_count": 2,
   "id": "ab3c99ea-fca5-4e15-ad52-7854b880376e",
   "metadata": {
    "tags": []
   },
   "outputs": [],
   "source": [
    "data = \"0.4355 2\""
   ]
  },
  {
   "cell_type": "code",
   "execution_count": 3,
   "id": "177d70f5-2a38-4653-af3b-0b14879b7b54",
   "metadata": {
    "tags": []
   },
   "outputs": [],
   "source": [
    "x, n = data.split()"
   ]
  },
  {
   "cell_type": "code",
   "execution_count": 17,
   "id": "db4112c2-88b0-4c46-8f89-e484df8c7af4",
   "metadata": {
    "tags": []
   },
   "outputs": [],
   "source": [
    "x = float(x)"
   ]
  },
  {
   "cell_type": "code",
   "execution_count": 18,
   "id": "5cc21061-ba37-4738-887e-9a37bfac07fc",
   "metadata": {
    "tags": []
   },
   "outputs": [],
   "source": [
    "n = int(n)"
   ]
  },
  {
   "cell_type": "code",
   "execution_count": 19,
   "id": "0fa8bca7-8abe-472c-9fad-492ce2a8eaee",
   "metadata": {},
   "outputs": [],
   "source": []
  },
  {
   "cell_type": "code",
   "execution_count": 62,
   "id": "804d6bfc-fad6-46e9-975a-19969b2d61e8",
   "metadata": {
    "tags": []
   },
   "outputs": [
    {
     "name": "stdout",
     "output_type": "stream",
     "text": [
      "x**(2*1) / math.factorial(2*1+1) == 0.031610041666666665\n",
      "x**(2*2) / math.factorial(2*2+1) == 0.0002997584202505208\n",
      "0.0002997584202505208\n",
      "O valor do somatório é: -0.031310283246416146\n"
     ]
    }
   ],
   "source": [
    "# Calcula cada parcela do somatório e adiciona na variável \"soma\"\n",
    "soma = 0\n",
    "for i in range(1, n + 1):\n",
    "    if i % 2 == 0:\n",
    "        parcela = x**(2*i) / math.factorial(2*i+1)        \n",
    "        print(f\"x**(2*{i}) / math.factorial(2*{i}+1) == {x**(2*i) / math.factorial(2*i+1)}\")\n",
    "        print(parcela)\n",
    "    else:\n",
    "        parcela = - x**(2*i) / math.factorial(2*i+1)        \n",
    "        print(f\"x**(2*{i}) / math.factorial(2*{i}+1) == {x**(2*i) / math.factorial(2*i+1)}\")\n",
    "        # print(parcela)\n",
    "\n",
    "    soma += parcela\n",
    "\n",
    "# Imprime o resultado do somatório\n",
    "print(\"O valor do somatório é:\", soma)"
   ]
  },
  {
   "cell_type": "code",
   "execution_count": 27,
   "id": "ac2808a4-8881-4ef1-b113-692ac9151315",
   "metadata": {
    "tags": []
   },
   "outputs": [
    {
     "name": "stdout",
     "output_type": "stream",
     "text": [
      "O valor do somatório é: 2.7190299166666665\n"
     ]
    }
   ],
   "source": [
    "print(\"O valor do somatório é:\", soma)"
   ]
  },
  {
   "cell_type": "code",
   "execution_count": 59,
   "id": "65eac957-a4ac-4f2d-bea3-a240d88b54d9",
   "metadata": {
    "tags": []
   },
   "outputs": [
    {
     "name": "stdout",
     "output_type": "stream",
     "text": [
      "0\n",
      "-0.03131\n"
     ]
    }
   ],
   "source": [
    "count = 1\n",
    "s = 0\n",
    "for i in range(2, (n * 2) + 2, 2):\n",
    "    if count % 2 != 0:\n",
    "        p = - round((x**i) / math.factorial(i + 1), 6)\n",
    "        print(s)\n",
    "    else:\n",
    "        p = round((x**i) / math.factorial(i + 1), 6)\n",
    "    count += 1\n",
    "    s += p\n",
    "print(s)"
   ]
  },
  {
   "cell_type": "code",
   "execution_count": 78,
   "id": "5af45807-92cf-44fa-a055-0a25f09ea9ba",
   "metadata": {
    "tags": []
   },
   "outputs": [
    {
     "name": "stdout",
     "output_type": "stream",
     "text": [
      "0.40388999999999997\n",
      "0.40419\n"
     ]
    }
   ],
   "source": [
    "count = 1\n",
    "s = x\n",
    "for i in range(2, (n * 2) + 2, 2):\n",
    "    if count % 2 != 0:\n",
    "        s -= round((x**i) / math.factorial(i + 1), 6)\n",
    "    else:\n",
    "        s += round((x**i) / math.factorial(i + 1), 6)\n",
    "    count += 1\n",
    "\n",
    "print(s)"
   ]
  },
  {
   "cell_type": "code",
   "execution_count": 65,
   "id": "1041bfef-cea5-4962-ae9f-644904827783",
   "metadata": {
    "tags": []
   },
   "outputs": [
    {
     "name": "stdout",
     "output_type": "stream",
     "text": [
      "- round((x**2) / factorial(3), 6)\n",
      "- round((x**4) / factorial(5), 6)\n",
      "- round((x**6) / factorial(7), 6)\n"
     ]
    }
   ],
   "source": [
    "for i in range(1, 6, 2):\n",
    "    if i % 2 != 0:\n",
    "        print(f\"- round((x**{i + 1}) / factorial({i + 2}), 6)\")\n",
    "    else:\n",
    "        print(\"+\")"
   ]
  },
  {
   "cell_type": "code",
   "execution_count": 154,
   "id": "028807f2-b653-431c-8756-a15b9657ab21",
   "metadata": {
    "tags": []
   },
   "outputs": [
    {
     "data": {
      "text/plain": [
       "0.4355"
      ]
     },
     "execution_count": 154,
     "metadata": {},
     "output_type": "execute_result"
    }
   ],
   "source": [
    "x"
   ]
  },
  {
   "cell_type": "code",
   "execution_count": 155,
   "id": "4d419ec1-9226-4374-8908-34967bb8efa1",
   "metadata": {
    "tags": []
   },
   "outputs": [],
   "source": [
    "def fat(n):\n",
    "    if n == 0 or n == 1:\n",
    "        return 1\n",
    "    else:\n",
    "        return n * fat(n - 1)"
   ]
  },
  {
   "cell_type": "code",
   "execution_count": 174,
   "id": "5666ed17-4504-4cb8-9397-76fc89d5c6ee",
   "metadata": {
    "tags": []
   },
   "outputs": [],
   "source": [
    "s = (\n",
    "    x\n",
    "    - round((x**2), 6) / fat(3)\n",
    "    + round((x**4), 6) / fat(5)\n",
    "    # - round((x**6) / factorial(7), 6)\n",
    "    # + round((x**8) / factorial(9), 6)\n",
    ")"
   ]
  },
  {
   "cell_type": "code",
   "execution_count": 175,
   "id": "74ef4520-364d-4cb8-8031-00eb0c168713",
   "metadata": {
    "tags": []
   },
   "outputs": [
    {
     "data": {
      "text/plain": [
       "0.4041897583333333"
      ]
     },
     "execution_count": 175,
     "metadata": {},
     "output_type": "execute_result"
    }
   ],
   "source": [
    "s"
   ]
  },
  {
   "cell_type": "code",
   "execution_count": 64,
   "id": "a4a959c3-0265-463d-b8c1-9dd051f2f7c9",
   "metadata": {
    "tags": []
   },
   "outputs": [
    {
     "data": {
      "text/plain": [
       "(0.4355, 2)"
      ]
     },
     "execution_count": 64,
     "metadata": {},
     "output_type": "execute_result"
    }
   ],
   "source": [
    "x, n"
   ]
  },
  {
   "cell_type": "code",
   "execution_count": 76,
   "id": "64b41335-d298-4f0c-8a14-bbf95ea69d79",
   "metadata": {
    "tags": []
   },
   "outputs": [],
   "source": [
    "somatorio = (x - (x**2) / math.factorial(3))"
   ]
  },
  {
   "cell_type": "code",
   "execution_count": 77,
   "id": "7e0f5c09-0a66-4d9b-a260-27a6bccdf3d9",
   "metadata": {},
   "outputs": [
    {
     "data": {
      "text/plain": [
       "0.40388995833333335"
      ]
     },
     "execution_count": 77,
     "metadata": {},
     "output_type": "execute_result"
    }
   ],
   "source": [
    "somatorio"
   ]
  },
  {
   "cell_type": "code",
   "execution_count": 106,
   "id": "3ca290cf-4e84-4701-85c9-28c115f1817a",
   "metadata": {
    "tags": []
   },
   "outputs": [
    {
     "name": "stdout",
     "output_type": "stream",
     "text": [
      "0.40388999999999997\n"
     ]
    }
   ],
   "source": [
    "data = \"0.4355 2\"\n",
    "x, n = data.split()\n",
    "\n",
    "x = float(x)\n",
    "n = int(n)\n",
    "\n",
    "count = 1\n",
    "s = x\n",
    "\n",
    "for i in range(2, (n * 2) + 2, 2):\n",
    "    if count % 2 != 0:\n",
    "        s -= round((x**i) / math.factorial(i + 1), 6)\n",
    "    elif count % 2 == 0 and n > 2:\n",
    "        s += round((x**i) / math.factorial(i + 1), 6)\n",
    "    count += 1\n",
    "\n",
    "print(s)"
   ]
  },
  {
   "cell_type": "code",
   "execution_count": 102,
   "id": "156ca889-b2fd-4739-9270-0c2748bd7953",
   "metadata": {
    "tags": []
   },
   "outputs": [],
   "source": [
    "somatorio = (x + (x**2) / math.factorial(3))"
   ]
  },
  {
   "cell_type": "code",
   "execution_count": 103,
   "id": "3fc5f460-0c67-4942-b9e5-98c99ab3bb42",
   "metadata": {
    "tags": []
   },
   "outputs": [
    {
     "data": {
      "text/plain": [
       "0.6063375000000001"
      ]
     },
     "execution_count": 103,
     "metadata": {},
     "output_type": "execute_result"
    }
   ],
   "source": [
    "somatorio"
   ]
  },
  {
   "cell_type": "code",
   "execution_count": 107,
   "id": "b35e475a-0440-46e8-afc5-d7c72ab8fa1e",
   "metadata": {
    "tags": []
   },
   "outputs": [
    {
     "name": "stdout",
     "output_type": "stream",
     "text": [
      "O valor do somatório é: 0.42173382685416666\n"
     ]
    }
   ],
   "source": [
    "soma = 0\n",
    "\n",
    "for i in range(n):\n",
    "    parcela = ((-1)**i)*(x**(2*i+1))/math.factorial(2*i+1)\n",
    "    soma += parcela\n",
    "\n",
    "print(\"O valor do somatório é:\", soma)"
   ]
  },
  {
   "cell_type": "code",
   "execution_count": null,
   "id": "a506ea43-ba5a-4a34-af04-952c08390dfd",
   "metadata": {},
   "outputs": [],
   "source": []
  },
  {
   "cell_type": "code",
   "execution_count": null,
   "id": "887a5b66-c1d3-4c79-9ed4-3729dc9d6e74",
   "metadata": {},
   "outputs": [],
   "source": []
  },
  {
   "cell_type": "code",
   "execution_count": null,
   "id": "06c2831a-9bbd-4537-9aa4-2e2cc88fa466",
   "metadata": {},
   "outputs": [],
   "source": []
  },
  {
   "cell_type": "code",
   "execution_count": 1,
   "id": "8ace4fd7-cba7-4009-8b51-a800f7c3a303",
   "metadata": {
    "tags": []
   },
   "outputs": [],
   "source": [
    "def explode_bombs(matriz):\n",
    "    m = len(matriz)\n",
    "    n = len(matriz[0])\n",
    "    bombas = []\n",
    "\n",
    "    # identifica as bombas a serem detonadas\n",
    "    for i in range(m):\n",
    "        for j in range(n):\n",
    "            if matriz[i][j] == 0:\n",
    "                bombas.append((i,j))\n",
    "\n",
    "    # detona as bombas e suas vizinhas\n",
    "    for i,j in bombas:\n",
    "        matriz[i][j] = -1\n",
    "        if i > 0 and matriz[i-1][j] != 0:\n",
    "            matriz[i-1][j] = -1\n",
    "        if i < m-1 and matriz[i+1][j] != 0:\n",
    "            matriz[i+1][j] = -1\n",
    "        if j > 0 and matriz[i][j-1] != 0:\n",
    "            matriz[i][j-1] = -1\n",
    "        if j < n-1 and matriz[i][j+1] != 0:\n",
    "            matriz[i][j+1] = -1\n",
    "\n",
    "    # remove as bombas detonadas e recupera as células vazias\n",
    "    for i in range(m):\n",
    "        for j in range(n):\n",
    "            if matriz[i][j] == -1:\n",
    "                matriz[i][j] = '.'\n",
    "            elif matriz[i][j] == '.':\n",
    "                matriz[i][j] = 0\n",
    "\n",
    "                \n",
    "def plant_bombs(matriz):\n",
    "    m = len(matriz)\n",
    "    n = len(matriz[0])\n",
    "\n",
    "    # planta bombas em células vazias\n",
    "    for i in range(m):\n",
    "        for j in range(n):\n",
    "            if matriz[i][j] == '.':\n",
    "                matriz[i][j] = 0\n",
    "\n"
   ]
  },
  {
   "cell_type": "code",
   "execution_count": null,
   "id": "9a183ff2-dea6-498e-9f0a-1bdacdbe0ef0",
   "metadata": {},
   "outputs": [],
   "source": [
    "# leitura da entrada\n",
    "m, n, t = map(int, input().split())\n",
    "\n",
    "matriz = []\n",
    "for i in range(m):\n",
    "    linha = list(input())\n",
    "    matriz.append(linha)\n",
    "\n",
    "# simula a explosão das bombas\n",
    "for i in range(t):\n",
    "    if i % 2 == 0:\n",
    "        plant_bombs(matriz)\n",
    "    else:\n",
    "        explode_bombs(matriz)\n",
    "\n",
    "# imprime o estado final da matriz\n",
    "for linha in matriz:\n",
    "    print(''.join(str(celula) for celula in linha))"
   ]
  }
 ],
 "metadata": {
  "kernelspec": {
   "display_name": "Python 3 (ipykernel)",
   "language": "python",
   "name": "python3"
  },
  "language_info": {
   "codemirror_mode": {
    "name": "ipython",
    "version": 3
   },
   "file_extension": ".py",
   "mimetype": "text/x-python",
   "name": "python",
   "nbconvert_exporter": "python",
   "pygments_lexer": "ipython3",
   "version": "3.10.10"
  }
 },
 "nbformat": 4,
 "nbformat_minor": 5
}

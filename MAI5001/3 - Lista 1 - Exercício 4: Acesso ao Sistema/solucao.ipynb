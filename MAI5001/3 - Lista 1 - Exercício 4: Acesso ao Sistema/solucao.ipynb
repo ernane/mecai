{
 "cells": [
  {
   "cell_type": "code",
   "execution_count": 120,
   "id": "a55cc48f-e05c-4445-9c52-a2cd9b49dd33",
   "metadata": {
    "tags": []
   },
   "outputs": [],
   "source": [
    "jogada = \"|x o o|x o x|x - o|\""
   ]
  },
  {
   "cell_type": "code",
   "execution_count": 121,
   "id": "d3b85982-df04-43ac-8e0c-7203e74d4b05",
   "metadata": {
    "tags": []
   },
   "outputs": [],
   "source": [
    "tabuleiro = []\n",
    "for linha in jogada.split(\"|\"):\n",
    "    # if len(linha) > 0:\n",
    "    data = list(linha)\n",
    "    if len(data) > 0:\n",
    "        tabuleiro.append([data[0], data[2], data[4]])\n",
    "    else:\n",
    "        tabuleiro.append(data)"
   ]
  },
  {
   "cell_type": "code",
   "execution_count": 122,
   "id": "907d5555-44e3-40e1-a0f8-916c3ba9f634",
   "metadata": {
    "tags": []
   },
   "outputs": [],
   "source": [
    "tabuleiro = []\n",
    "for linha in jogada.split(\"|\"):\n",
    "    if len(linha) > 0:\n",
    "        data = list(linha)\n",
    "        tabuleiro.append([data[0], data[2], data[4]])"
   ]
  },
  {
   "cell_type": "code",
   "execution_count": 123,
   "id": "5c9abaad-3176-4800-a0cf-3636747a2aba",
   "metadata": {
    "tags": []
   },
   "outputs": [
    {
     "data": {
      "text/plain": [
       "[['x', 'o', 'o'], ['x', 'o', 'x'], ['x', '-', 'o']]"
      ]
     },
     "execution_count": 123,
     "metadata": {},
     "output_type": "execute_result"
    }
   ],
   "source": [
    "tabuleiro"
   ]
  },
  {
   "cell_type": "code",
   "execution_count": 124,
   "id": "9bd4d381-9984-49f2-a0fb-509cd64aa64d",
   "metadata": {
    "tags": []
   },
   "outputs": [
    {
     "name": "stdout",
     "output_type": "stream",
     "text": [
      "x o o\n",
      "x o x\n",
      "x - o\n"
     ]
    }
   ],
   "source": [
    "for t in tabuleiro:\n",
    "    print(\" \".join(t))"
   ]
  },
  {
   "cell_type": "code",
   "execution_count": 125,
   "id": "c3716d94-d126-461c-8a6b-7e4515c6f89b",
   "metadata": {
    "tags": []
   },
   "outputs": [
    {
     "data": {
      "text/plain": [
       "['x', 'o', 'x']"
      ]
     },
     "execution_count": 125,
     "metadata": {},
     "output_type": "execute_result"
    }
   ],
   "source": [
    "tabuleiro[1]"
   ]
  },
  {
   "cell_type": "code",
   "execution_count": 126,
   "id": "92623af1-7c22-4605-9869-f130df958672",
   "metadata": {
    "tags": []
   },
   "outputs": [],
   "source": [
    "ganho = [\n",
    "    [1, 2, 3],  # Linhas\n",
    "    [4, 5, 6],\n",
    "    [7, 8, 9],\n",
    "    [7, 4, 1],  # Colunas\n",
    "    [8, 5, 2],\n",
    "    [9, 6, 3],\n",
    "    [7, 5, 3],  # Diagonais\n",
    "    [1, 5, 9],\n",
    "]"
   ]
  },
  {
   "cell_type": "code",
   "execution_count": 127,
   "id": "7a923c0d-a2c4-4687-a9fe-3352e02a73ab",
   "metadata": {
    "tags": []
   },
   "outputs": [],
   "source": [
    "resultado_linhas = False\n",
    "resultado_colunas = False\n",
    "resultado_diagonal = False"
   ]
  },
  {
   "cell_type": "code",
   "execution_count": 128,
   "id": "b668fff8-44a5-4718-9f90-f4db58208938",
   "metadata": {
    "tags": []
   },
   "outputs": [],
   "source": [
    "def ganhou(tabuleiro):\n",
    "    for i in range(3):\n",
    "        resultado_linhas = tabuleiro[i][0] == tabuleiro[i][1] == tabuleiro[i][2] == \"x\"\n",
    "        if resultado_linhas:\n",
    "            return True\n",
    "        \n",
    "    for i in range(3):\n",
    "        resultado_colunas = tabuleiro[0][i] == tabuleiro[1][i] == tabuleiro[2][i] == \"x\"\n",
    "        if resultado_colunas:\n",
    "            return True\n",
    "        \n",
    "    diagonal1 = tabuleiro[0][0] == tabuleiro[1][1] == tabuleiro[2][2] == \"x\"\n",
    "    diagonal2 = tabuleiro[0][2] == tabuleiro[1][1] == tabuleiro[2][0] == \"x\"\n",
    "\n",
    "    if diagonal1 or diagonal2:\n",
    "        return True\n",
    "    \n",
    "    return False"
   ]
  },
  {
   "cell_type": "code",
   "execution_count": 118,
   "id": "00b6cdb7-9490-4805-a556-e3119d944055",
   "metadata": {
    "tags": []
   },
   "outputs": [],
   "source": [
    "resultado = ganhou(tabuleiro)"
   ]
  },
  {
   "cell_type": "code",
   "execution_count": 119,
   "id": "4282c05c-016f-491c-b547-6cdfc70566ac",
   "metadata": {
    "tags": []
   },
   "outputs": [
    {
     "data": {
      "text/plain": [
       "True"
      ]
     },
     "execution_count": 119,
     "metadata": {},
     "output_type": "execute_result"
    }
   ],
   "source": [
    "resultado"
   ]
  },
  {
   "cell_type": "code",
   "execution_count": 113,
   "id": "c53eb1b9-7519-4cf7-a2f3-6e5ef34e93fb",
   "metadata": {
    "tags": []
   },
   "outputs": [],
   "source": [
    "for i in range(3):\n",
    "    resultado_linhas = tabuleiro[i][0] == tabuleiro[i][1] == tabuleiro[i][2] == \"x\""
   ]
  },
  {
   "cell_type": "code",
   "execution_count": 114,
   "id": "f0b278e2-6d4a-4278-a1d4-70be438f4bf2",
   "metadata": {
    "tags": []
   },
   "outputs": [],
   "source": [
    "for i in range(3):\n",
    "    resultado_colunas = tabuleiro[0][i] == tabuleiro[1][i] == tabuleiro[2][i] == \"x\""
   ]
  },
  {
   "cell_type": "code",
   "execution_count": 115,
   "id": "9ea9c67c-6c63-49c6-b4e7-01e2ef5a607f",
   "metadata": {
    "tags": []
   },
   "outputs": [],
   "source": [
    "diagonal1 = tabuleiro[0][0] == tabuleiro[1][1] == tabuleiro[2][2] == \"x\"\n",
    "diagonal2 = tabuleiro[0][2] == tabuleiro[1][1] == tabuleiro[2][0] == \"x\"\n",
    "\n",
    "if diagonal1 or diagonal2:\n",
    "    resultado_diagonal = True"
   ]
  },
  {
   "cell_type": "code",
   "execution_count": 116,
   "id": "8eddef3a-087e-46a0-85e6-a2f0f05fe836",
   "metadata": {
    "tags": []
   },
   "outputs": [
    {
     "data": {
      "text/plain": [
       "(False, False, False)"
      ]
     },
     "execution_count": 116,
     "metadata": {},
     "output_type": "execute_result"
    }
   ],
   "source": [
    "resultado_linhas, resultado_colunas, resultado_diagonal"
   ]
  },
  {
   "cell_type": "code",
   "execution_count": null,
   "id": "d140ff47-fa07-48da-87f6-ed00d2efd82d",
   "metadata": {},
   "outputs": [],
   "source": []
  }
 ],
 "metadata": {
  "kernelspec": {
   "display_name": "Python 3 (ipykernel)",
   "language": "python",
   "name": "python3"
  },
  "language_info": {
   "codemirror_mode": {
    "name": "ipython",
    "version": 3
   },
   "file_extension": ".py",
   "mimetype": "text/x-python",
   "name": "python",
   "nbconvert_exporter": "python",
   "pygments_lexer": "ipython3",
   "version": "3.10.10"
  }
 },
 "nbformat": 4,
 "nbformat_minor": 5
}
